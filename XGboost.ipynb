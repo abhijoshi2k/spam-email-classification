{
 "metadata": {
  "language_info": {
   "codemirror_mode": {
    "name": "ipython",
    "version": 3
   },
   "file_extension": ".py",
   "mimetype": "text/x-python",
   "name": "python",
   "nbconvert_exporter": "python",
   "pygments_lexer": "ipython3",
   "version": "3.8.5"
  },
  "orig_nbformat": 2,
  "kernelspec": {
   "name": "python385jvsc74a57bd06e32d43ee9400bcbd351cf329268e62026260826e1d100b2fd0920263d797d36",
   "display_name": "Python 3.8.5 64-bit ('base': conda)"
  }
 },
 "nbformat": 4,
 "nbformat_minor": 2,
 "cells": [
  {
   "cell_type": "code",
   "execution_count": 1,
   "metadata": {},
   "outputs": [],
   "source": [
    "import numpy as np\n",
    "import pandas as pd\n",
    "\n",
    "from sklearn.feature_extraction.text import CountVectorizer\n",
    "from sklearn.model_selection import train_test_split\n",
    "from sklearn.metrics import recall_score, precision_score, f1_score, confusion_matrix\n",
    "\n",
    "from xgboost import XGBClassifier"
   ]
  },
  {
   "cell_type": "code",
   "execution_count": 2,
   "metadata": {},
   "outputs": [],
   "source": [
    "DATA_JSON_FILE = 'SpamData/01_Processing/email-text-data.json'\n",
    "data = pd.read_json(DATA_JSON_FILE)\n",
    "data.sort_index(inplace=True)\n",
    "vectorizer = CountVectorizer(stop_words='english')\n",
    "all_features = vectorizer.fit_transform(data.MESSAGE)\n",
    "X_train, X_test, y_train, y_test = train_test_split(all_features, data.CATEGORY, test_size=0.3, random_state=88)"
   ]
  },
  {
   "cell_type": "code",
   "execution_count": 3,
   "metadata": {},
   "outputs": [
    {
     "output_type": "stream",
     "name": "stdout",
     "text": [
      "[12:10:37] WARNING: C:/Users/Administrator/workspace/xgboost-win64_release_1.3.0/src/learner.cc:1061: Starting in XGBoost 1.3.0, the default evaluation metric used with the objective 'binary:logistic' was changed from 'error' to 'logloss'. Explicitly set eval_metric if you'd like to restore the old behavior.\n"
     ]
    },
    {
     "output_type": "execute_result",
     "data": {
      "text/plain": [
       "XGBClassifier(base_score=0.5, booster='gbtree', colsample_bylevel=1,\n",
       "              colsample_bynode=1, colsample_bytree=1, gamma=0, gpu_id=-1,\n",
       "              importance_type='gain', interaction_constraints='',\n",
       "              learning_rate=0.300000012, max_delta_step=0, max_depth=6,\n",
       "              min_child_weight=1, missing=nan, monotone_constraints='()',\n",
       "              n_estimators=100, n_jobs=8, num_parallel_tree=1, random_state=0,\n",
       "              reg_alpha=0, reg_lambda=1, scale_pos_weight=1, subsample=1,\n",
       "              tree_method='exact', use_label_encoder=False,\n",
       "              validate_parameters=1, verbosity=None)"
      ]
     },
     "metadata": {},
     "execution_count": 3
    }
   ],
   "source": [
    "classifier = XGBClassifier(use_label_encoder=False)\n",
    "classifier.fit(X_train, y_train)"
   ]
  },
  {
   "cell_type": "code",
   "execution_count": 4,
   "metadata": {},
   "outputs": [
    {
     "output_type": "stream",
     "name": "stdout",
     "text": [
      "[[1175   10]\n [  14  540]]\n"
     ]
    }
   ],
   "source": [
    "result = classifier.predict(X_test)\n",
    "print(confusion_matrix(y_test, result))"
   ]
  },
  {
   "cell_type": "code",
   "execution_count": 5,
   "metadata": {},
   "outputs": [
    {
     "output_type": "execute_result",
     "data": {
      "text/plain": [
       "0.9861989649223691"
      ]
     },
     "metadata": {},
     "execution_count": 5
    }
   ],
   "source": [
    "classifier.score(X_test, y_test)"
   ]
  },
  {
   "cell_type": "code",
   "execution_count": 6,
   "metadata": {},
   "outputs": [
    {
     "output_type": "execute_result",
     "data": {
      "text/plain": [
       "0.9747292418772563"
      ]
     },
     "metadata": {},
     "execution_count": 6
    }
   ],
   "source": [
    "recall_score(y_test, classifier.predict(X_test))"
   ]
  },
  {
   "cell_type": "code",
   "execution_count": 7,
   "metadata": {},
   "outputs": [
    {
     "output_type": "execute_result",
     "data": {
      "text/plain": [
       "0.9818181818181818"
      ]
     },
     "metadata": {},
     "execution_count": 7
    }
   ],
   "source": [
    "precision_score(y_test, classifier.predict(X_test))"
   ]
  },
  {
   "cell_type": "code",
   "execution_count": 8,
   "metadata": {},
   "outputs": [
    {
     "output_type": "execute_result",
     "data": {
      "text/plain": [
       "0.9782608695652173"
      ]
     },
     "metadata": {},
     "execution_count": 8
    }
   ],
   "source": [
    "f1_score(y_test, classifier.predict(X_test))"
   ]
  },
  {
   "cell_type": "code",
   "execution_count": 12,
   "metadata": {},
   "outputs": [],
   "source": [
    "example = ['Greeting from CSI-SIES GST,\\nI hope this email finds you well.\\n\\nIf you have not yet submitted your abstracts, please submit it as soon as possible so that the evaluation process of the abstracts can be started and we can give you an update whether your abstract is selected or not.\\n\\nIn case of any other queries, you can drop in a mail on our official email ID or you can contact us:\\n\\n1. Sangeeth Arun, Secretary, CSI SIESGST: 9167221000\\n2. Sharan Murli, Joint Secretary, CSI SIESGST: 9167754246\\n\\nPlease ignore this message if you have already submitted the abstract.\\n\\nThank You.', 'I ended up figuring out the problem. This isn\\'t a problem with axios but in your react development environment the component is rendered twice if you\\'re in StrictMode. The purpose of this to uncover unpredicted side-effects, it doesn\\'t happen in production', 'Good day, I have a proposition involving an investment initiative to discuss with you. It will be of mutual benefit to both of us, and I believe we can handle it together, once we have a common understanding and mutual co-operation in the execution of the modalities. Should you have the capacity and interest to handle this project, please respond with your full name, address, mobile number to me. Yours sincerely, Mr. Jean Marie Kojo', 'Hello Abhishek Joshi,\\nCongratulations! You have been successfully registered for the Online Test Prep & Career Guidance Webinar hosted by Collegepond.\\nAbout Collegepond:\\nCollegepond is a leading test preparation, career, and admissions counselling outfit in India.  We have helped over 10,000 students secure admissions to leading universities across the globe over the last 16 years.  For more information, please refer to our website -- www.collegepond.com\\nKey Takeaways from the Webinar:\\n•  Upcoming fields & salary trends\\n•  How to prepare for entrance exams? (GRE, GMAT, TOEFL, IELTS)\\n•  How to build a strong profile/resume?\\n•  Overview of the application process\\n•  Planning your educational finances\\nDate & Time: 1st April, 2:00 PM Onwards\\nWebinar room: https://event.webinarjam.com/t/click/0nro5a4mcyngt03xtzo84ixxrpb1yma4\\nSee you at the webinar!\\nFor any questions or concerns feel free to contact us at info@collegepond.com', 'Dear Candidate,\\n\\n\\nGreetings from RBCDSAI, IITM!\\n\\n\\nIt gives us immense pleasure in inviting you to the “ 3rd RBCDSAI INDUSTRY CONCLAVE IN COLLABORATION WITH DART LAB ON FINANCIAL ANALYTICS” on 31st  March,2021.\\n\\n\\nFor more details about the event and to register please visit\\n\\n\\nhttps://rbcdsai.iitm.ac.in/events/3rd-conclave/\\n\\n\\nTime:     10 am to 5,30 pm  \\nDate:     31.03.2021, Wednesday\\n\\nVenue:  Online (Webinar details will be sent to registered participants from 5 pm to 7 pm on 30th March )\\n\\nThe registration is open till 30th March 2021 (6 PM IST)   \\n\\n\\n\\nSummary of the Event\\n\\n\\n\\nThe 3rd RBCDSAI Industry Conclave in collaboration with DART Lab, focuses on the special theme of Financial Analytics. The conclave is scheduled to have industry experts highlight the various applications of AI and Data Science in Finance. This covers a broad range of areas that look at financial risk as it applies to capital markets, investment management, BFSI, and household finance. Join us for this exciting one-day event, from 10am to 5:30 pm, on 31st March 2021, to listen and interact with distinguished industry leaders as they discuss important elements of Financial Analytics.\\n\\n\\n\\nLooking forward for your participation.\\n\\n\\n\\nBest regards,\\n\\n\\n\\nRBCDSAI Team', 'Ski jumping is a winter sport in which competitors aim to achieve the longest jump after descending from a specially designed ramp on their skis. Along with jump length, competitor\\'s style and other factors affect the final score. Ski jumping was first contested in Norway in the late 19th century, and later spread through Europe and North America in the early 20th century. Along with cross-country skiing, it constitutes the traditional group of Nordic skiing disciplines.']"
   ]
  },
  {
   "cell_type": "code",
   "execution_count": 13,
   "metadata": {},
   "outputs": [],
   "source": [
    "doc_term_matrix = vectorizer.transform(example)"
   ]
  },
  {
   "cell_type": "code",
   "execution_count": 14,
   "metadata": {},
   "outputs": [
    {
     "output_type": "execute_result",
     "data": {
      "text/plain": [
       "array([0, 0, 1, 1, 1, 0])"
      ]
     },
     "metadata": {},
     "execution_count": 14
    }
   ],
   "source": [
    "classifier.predict(doc_term_matrix)"
   ]
  },
  {
   "cell_type": "code",
   "execution_count": null,
   "metadata": {},
   "outputs": [],
   "source": []
  }
 ]
}