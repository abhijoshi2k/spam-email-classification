{
 "metadata": {
  "language_info": {
   "codemirror_mode": {
    "name": "ipython",
    "version": 3
   },
   "file_extension": ".py",
   "mimetype": "text/x-python",
   "name": "python",
   "nbconvert_exporter": "python",
   "pygments_lexer": "ipython3",
   "version": "3.8.5-final"
  },
  "orig_nbformat": 2,
  "kernelspec": {
   "name": "python3",
   "display_name": "Python 3.8.5 64-bit (conda)",
   "metadata": {
    "interpreter": {
     "hash": "6e32d43ee9400bcbd351cf329268e62026260826e1d100b2fd0920263d797d36"
    }
   }
  }
 },
 "nbformat": 4,
 "nbformat_minor": 2,
 "cells": [
  {
   "cell_type": "code",
   "execution_count": 1,
   "metadata": {},
   "outputs": [],
   "source": [
    "import numpy as np\n",
    "import pandas as pd\n",
    "\n",
    "from sklearn.feature_extraction.text import CountVectorizer\n",
    "from sklearn.model_selection import train_test_split\n",
    "from sklearn.naive_bayes import MultinomialNB\n",
    "from sklearn.metrics import recall_score, precision_score, f1_score"
   ]
  },
  {
   "cell_type": "code",
   "execution_count": 2,
   "metadata": {},
   "outputs": [],
   "source": [
    "DATA_JSON_FILE = 'SpamData/01_Processing/email-text-data.json'"
   ]
  },
  {
   "cell_type": "code",
   "execution_count": 3,
   "metadata": {},
   "outputs": [],
   "source": [
    "data = pd.read_json(DATA_JSON_FILE)"
   ]
  },
  {
   "cell_type": "code",
   "execution_count": 4,
   "metadata": {},
   "outputs": [
    {
     "output_type": "execute_result",
     "data": {
      "text/plain": [
       "                                                MESSAGE  CATEGORY  \\\n",
       "5791  http://news.bbc.co.uk/1/hi/england/2515127.stm...         0   \n",
       "5792  > >-- be careful when using this one.) Also, t...         0   \n",
       "5793  >>>>> \"SM\" == Skip Montanaro <skip@pobox.com> ...         0   \n",
       "5794  So then, \"Mark Hammond\" <mhammond@skippinet.co...         0   \n",
       "5795  Hi there,\\n\\n\\n\\nNow this is probably of no us...         0   \n",
       "\n",
       "                                   FILE_NAME  \n",
       "5791  01396.61983fbe6ec43f55fd44e30fce24ffa6  \n",
       "5792  01397.9f9ef4c2a8dc012d80f2ce2d3473d3b7  \n",
       "5793  01398.169b51731fe569f42169ae8f948ec676  \n",
       "5794  01399.ca6b00b7b341bbde9a9ea3dd6a7bf896  \n",
       "5795  01400.f897f0931e461e7b2e964d28e927c35e  "
      ],
      "text/html": "<div>\n<style scoped>\n    .dataframe tbody tr th:only-of-type {\n        vertical-align: middle;\n    }\n\n    .dataframe tbody tr th {\n        vertical-align: top;\n    }\n\n    .dataframe thead th {\n        text-align: right;\n    }\n</style>\n<table border=\"1\" class=\"dataframe\">\n  <thead>\n    <tr style=\"text-align: right;\">\n      <th></th>\n      <th>MESSAGE</th>\n      <th>CATEGORY</th>\n      <th>FILE_NAME</th>\n    </tr>\n  </thead>\n  <tbody>\n    <tr>\n      <th>5791</th>\n      <td>http://news.bbc.co.uk/1/hi/england/2515127.stm...</td>\n      <td>0</td>\n      <td>01396.61983fbe6ec43f55fd44e30fce24ffa6</td>\n    </tr>\n    <tr>\n      <th>5792</th>\n      <td>&gt; &gt;-- be careful when using this one.) Also, t...</td>\n      <td>0</td>\n      <td>01397.9f9ef4c2a8dc012d80f2ce2d3473d3b7</td>\n    </tr>\n    <tr>\n      <th>5793</th>\n      <td>&gt;&gt;&gt;&gt;&gt; \"SM\" == Skip Montanaro &lt;skip@pobox.com&gt; ...</td>\n      <td>0</td>\n      <td>01398.169b51731fe569f42169ae8f948ec676</td>\n    </tr>\n    <tr>\n      <th>5794</th>\n      <td>So then, \"Mark Hammond\" &lt;mhammond@skippinet.co...</td>\n      <td>0</td>\n      <td>01399.ca6b00b7b341bbde9a9ea3dd6a7bf896</td>\n    </tr>\n    <tr>\n      <th>5795</th>\n      <td>Hi there,\\n\\n\\n\\nNow this is probably of no us...</td>\n      <td>0</td>\n      <td>01400.f897f0931e461e7b2e964d28e927c35e</td>\n    </tr>\n  </tbody>\n</table>\n</div>"
     },
     "metadata": {},
     "execution_count": 4
    }
   ],
   "source": [
    "data.tail()"
   ]
  },
  {
   "cell_type": "code",
   "execution_count": 5,
   "metadata": {},
   "outputs": [
    {
     "output_type": "execute_result",
     "data": {
      "text/plain": [
       "(5796, 3)"
      ]
     },
     "metadata": {},
     "execution_count": 5
    }
   ],
   "source": [
    "data.shape"
   ]
  },
  {
   "cell_type": "code",
   "execution_count": 6,
   "metadata": {},
   "outputs": [],
   "source": [
    "data.sort_index(inplace=True)"
   ]
  },
  {
   "cell_type": "code",
   "execution_count": 7,
   "metadata": {},
   "outputs": [
    {
     "output_type": "execute_result",
     "data": {
      "text/plain": [
       "                                                MESSAGE  CATEGORY  \\\n",
       "5791  http://news.bbc.co.uk/1/hi/england/2515127.stm...         0   \n",
       "5792  > >-- be careful when using this one.) Also, t...         0   \n",
       "5793  >>>>> \"SM\" == Skip Montanaro <skip@pobox.com> ...         0   \n",
       "5794  So then, \"Mark Hammond\" <mhammond@skippinet.co...         0   \n",
       "5795  Hi there,\\n\\n\\n\\nNow this is probably of no us...         0   \n",
       "\n",
       "                                   FILE_NAME  \n",
       "5791  01396.61983fbe6ec43f55fd44e30fce24ffa6  \n",
       "5792  01397.9f9ef4c2a8dc012d80f2ce2d3473d3b7  \n",
       "5793  01398.169b51731fe569f42169ae8f948ec676  \n",
       "5794  01399.ca6b00b7b341bbde9a9ea3dd6a7bf896  \n",
       "5795  01400.f897f0931e461e7b2e964d28e927c35e  "
      ],
      "text/html": "<div>\n<style scoped>\n    .dataframe tbody tr th:only-of-type {\n        vertical-align: middle;\n    }\n\n    .dataframe tbody tr th {\n        vertical-align: top;\n    }\n\n    .dataframe thead th {\n        text-align: right;\n    }\n</style>\n<table border=\"1\" class=\"dataframe\">\n  <thead>\n    <tr style=\"text-align: right;\">\n      <th></th>\n      <th>MESSAGE</th>\n      <th>CATEGORY</th>\n      <th>FILE_NAME</th>\n    </tr>\n  </thead>\n  <tbody>\n    <tr>\n      <th>5791</th>\n      <td>http://news.bbc.co.uk/1/hi/england/2515127.stm...</td>\n      <td>0</td>\n      <td>01396.61983fbe6ec43f55fd44e30fce24ffa6</td>\n    </tr>\n    <tr>\n      <th>5792</th>\n      <td>&gt; &gt;-- be careful when using this one.) Also, t...</td>\n      <td>0</td>\n      <td>01397.9f9ef4c2a8dc012d80f2ce2d3473d3b7</td>\n    </tr>\n    <tr>\n      <th>5793</th>\n      <td>&gt;&gt;&gt;&gt;&gt; \"SM\" == Skip Montanaro &lt;skip@pobox.com&gt; ...</td>\n      <td>0</td>\n      <td>01398.169b51731fe569f42169ae8f948ec676</td>\n    </tr>\n    <tr>\n      <th>5794</th>\n      <td>So then, \"Mark Hammond\" &lt;mhammond@skippinet.co...</td>\n      <td>0</td>\n      <td>01399.ca6b00b7b341bbde9a9ea3dd6a7bf896</td>\n    </tr>\n    <tr>\n      <th>5795</th>\n      <td>Hi there,\\n\\n\\n\\nNow this is probably of no us...</td>\n      <td>0</td>\n      <td>01400.f897f0931e461e7b2e964d28e927c35e</td>\n    </tr>\n  </tbody>\n</table>\n</div>"
     },
     "metadata": {},
     "execution_count": 7
    }
   ],
   "source": [
    "data.tail()"
   ]
  },
  {
   "cell_type": "code",
   "execution_count": 8,
   "metadata": {},
   "outputs": [],
   "source": [
    "vectorizer = CountVectorizer(stop_words='english')"
   ]
  },
  {
   "cell_type": "code",
   "execution_count": 9,
   "metadata": {},
   "outputs": [],
   "source": [
    "all_features = vectorizer.fit_transform(data.MESSAGE)"
   ]
  },
  {
   "cell_type": "code",
   "execution_count": 10,
   "metadata": {},
   "outputs": [
    {
     "output_type": "execute_result",
     "data": {
      "text/plain": [
       "(5796, 102694)"
      ]
     },
     "metadata": {},
     "execution_count": 10
    }
   ],
   "source": [
    "all_features.shape"
   ]
  },
  {
   "cell_type": "code",
   "execution_count": 11,
   "metadata": {},
   "outputs": [],
   "source": [
    "# vectorizer.vocabulary_"
   ]
  },
  {
   "cell_type": "code",
   "execution_count": 12,
   "metadata": {},
   "outputs": [],
   "source": [
    "X_train, X_test, y_train, y_test = train_test_split(all_features, data.CATEGORY, test_size=0.3, random_state=88)"
   ]
  },
  {
   "cell_type": "code",
   "execution_count": 13,
   "metadata": {},
   "outputs": [
    {
     "output_type": "execute_result",
     "data": {
      "text/plain": [
       "(4057, 102694)"
      ]
     },
     "metadata": {},
     "execution_count": 13
    }
   ],
   "source": [
    "X_train.shape"
   ]
  },
  {
   "cell_type": "code",
   "execution_count": 14,
   "metadata": {},
   "outputs": [
    {
     "output_type": "execute_result",
     "data": {
      "text/plain": [
       "(1739, 102694)"
      ]
     },
     "metadata": {},
     "execution_count": 14
    }
   ],
   "source": [
    "X_test.shape"
   ]
  },
  {
   "cell_type": "code",
   "execution_count": 15,
   "metadata": {},
   "outputs": [],
   "source": [
    "classifier = MultinomialNB()"
   ]
  },
  {
   "cell_type": "code",
   "execution_count": 16,
   "metadata": {},
   "outputs": [
    {
     "output_type": "execute_result",
     "data": {
      "text/plain": [
       "MultinomialNB()"
      ]
     },
     "metadata": {},
     "execution_count": 16
    }
   ],
   "source": [
    "classifier.fit(X_train, y_train)"
   ]
  },
  {
   "cell_type": "code",
   "execution_count": 17,
   "metadata": {},
   "outputs": [],
   "source": [
    "nr_correct = (y_test == classifier.predict(X_test)).sum()"
   ]
  },
  {
   "cell_type": "code",
   "execution_count": 18,
   "metadata": {},
   "outputs": [
    {
     "output_type": "stream",
     "name": "stdout",
     "text": [
      "1641 documents classified correctly\n"
     ]
    }
   ],
   "source": [
    "print(f'{nr_correct} documents classified correctly')"
   ]
  },
  {
   "cell_type": "code",
   "execution_count": 19,
   "metadata": {},
   "outputs": [],
   "source": [
    "nr_incorrect = y_test.size - nr_correct"
   ]
  },
  {
   "cell_type": "code",
   "execution_count": 20,
   "metadata": {},
   "outputs": [
    {
     "output_type": "stream",
     "name": "stdout",
     "text": [
      "Number of documents incorrectly classified: 98\n"
     ]
    }
   ],
   "source": [
    "print(f'Number of documents incorrectly classified: {nr_incorrect}')"
   ]
  },
  {
   "cell_type": "code",
   "execution_count": 21,
   "metadata": {},
   "outputs": [
    {
     "output_type": "stream",
     "name": "stdout",
     "text": [
      "The (testing) accuracy of the model is 94.36%\n"
     ]
    }
   ],
   "source": [
    "fraction_wrong = nr_incorrect / (nr_correct + nr_incorrect)\n",
    "print(f'The (testing) accuracy of the model is {1 - fraction_wrong:.2%}')"
   ]
  },
  {
   "cell_type": "code",
   "execution_count": 22,
   "metadata": {},
   "outputs": [
    {
     "output_type": "execute_result",
     "data": {
      "text/plain": [
       "0.9436457734330075"
      ]
     },
     "metadata": {},
     "execution_count": 22
    }
   ],
   "source": [
    "classifier.score(X_test, y_test)"
   ]
  },
  {
   "cell_type": "code",
   "execution_count": 23,
   "metadata": {},
   "outputs": [
    {
     "output_type": "execute_result",
     "data": {
      "text/plain": [
       "0.8303249097472925"
      ]
     },
     "metadata": {},
     "execution_count": 23
    }
   ],
   "source": [
    "recall_score(y_test, classifier.predict(X_test))"
   ]
  },
  {
   "cell_type": "code",
   "execution_count": 24,
   "metadata": {},
   "outputs": [
    {
     "output_type": "execute_result",
     "data": {
      "text/plain": [
       "0.9913793103448276"
      ]
     },
     "metadata": {},
     "execution_count": 24
    }
   ],
   "source": [
    "precision_score(y_test, classifier.predict(X_test))"
   ]
  },
  {
   "cell_type": "code",
   "execution_count": 25,
   "metadata": {},
   "outputs": [
    {
     "output_type": "execute_result",
     "data": {
      "text/plain": [
       "0.9037328094302555"
      ]
     },
     "metadata": {},
     "execution_count": 25
    }
   ],
   "source": [
    "f1_score(y_test, classifier.predict(X_test))"
   ]
  },
  {
   "cell_type": "code",
   "execution_count": 26,
   "metadata": {},
   "outputs": [],
   "source": [
    "example = ['get viagra for free now!', 'need mortgage? Reply to arrange a call with a specialist and get a quote', 'could you please help me with the project for tomorrow?', 'Hello Jonathan, how about a game of golf tomorrow?', 'Ski jumping is a winter sport in which competitors aim to achieve the longest jump after descending from a specially designed ramp on their skis. Along with jump length, competitor\\'s style and other factors affect the final score. Ski jumping was first contested in Norway in the late 19th century, and later spread through Europe and North America in the early 20th century. Along with cross-country skiing, it constitutes the traditional group of Nordic skiing disciplines.']"
   ]
  },
  {
   "cell_type": "code",
   "execution_count": 27,
   "metadata": {},
   "outputs": [],
   "source": [
    "doc_term_matrix = vectorizer.transform(example)"
   ]
  },
  {
   "cell_type": "code",
   "execution_count": 28,
   "metadata": {},
   "outputs": [
    {
     "output_type": "execute_result",
     "data": {
      "text/plain": [
       "array([1, 1, 0, 0, 0], dtype=int64)"
      ]
     },
     "metadata": {},
     "execution_count": 28
    }
   ],
   "source": [
    "classifier.predict(doc_term_matrix)"
   ]
  }
 ]
}